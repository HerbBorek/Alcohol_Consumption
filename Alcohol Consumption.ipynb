{
 "cells": [
  {
   "cell_type": "code",
   "execution_count": 77,
   "id": "28b4f069",
   "metadata": {},
   "outputs": [],
   "source": [
    "import os\n",
    "import pandas as pd\n",
    "from collections import Counter\n",
    "import matplotlib.pyplot as plt\n",
    "import numpy as np\n",
    "import seaborn as sb\n",
    "from scipy.stats import zscore\n",
    "import geopandas as gpd"
   ]
  },
  {
   "cell_type": "code",
   "execution_count": 78,
   "id": "be023837",
   "metadata": {},
   "outputs": [
    {
     "data": {
      "text/plain": [
       "'/Users/herbieborek/Dropbox/H-Masters/Datasets'"
      ]
     },
     "execution_count": 78,
     "metadata": {},
     "output_type": "execute_result"
    }
   ],
   "source": [
    "# Update Path\n",
    "path = \"***\"\n",
    "os.chdir(path)\n",
    "os.getcwd()"
   ]
  },
  {
   "cell_type": "code",
   "execution_count": 79,
   "id": "0a6d8104",
   "metadata": {},
   "outputs": [
    {
     "data": {
      "text/html": [
       "<div>\n",
       "<style scoped>\n",
       "    .dataframe tbody tr th:only-of-type {\n",
       "        vertical-align: middle;\n",
       "    }\n",
       "\n",
       "    .dataframe tbody tr th {\n",
       "        vertical-align: top;\n",
       "    }\n",
       "\n",
       "    .dataframe thead th {\n",
       "        text-align: right;\n",
       "    }\n",
       "</style>\n",
       "<table border=\"1\" class=\"dataframe\">\n",
       "  <thead>\n",
       "    <tr style=\"text-align: right;\">\n",
       "      <th></th>\n",
       "      <th>Entity</th>\n",
       "      <th>Code</th>\n",
       "      <th>Year</th>\n",
       "      <th>Total alcohol consumption per capita (liters of pure alcohol, projected estimates, 15+ years of age)</th>\n",
       "      <th>GDP per capita, PPP (constant 2017 international $)</th>\n",
       "      <th>Population (historical estimates)</th>\n",
       "      <th>Continent</th>\n",
       "    </tr>\n",
       "  </thead>\n",
       "  <tbody>\n",
       "    <tr>\n",
       "      <th>0</th>\n",
       "      <td>Abkhazia</td>\n",
       "      <td>OWID_ABK</td>\n",
       "      <td>2015</td>\n",
       "      <td>NaN</td>\n",
       "      <td>NaN</td>\n",
       "      <td>NaN</td>\n",
       "      <td>Asia</td>\n",
       "    </tr>\n",
       "    <tr>\n",
       "      <th>1</th>\n",
       "      <td>Afghanistan</td>\n",
       "      <td>AFG</td>\n",
       "      <td>2010</td>\n",
       "      <td>0.21</td>\n",
       "      <td>1957.029070</td>\n",
       "      <td>29185511.0</td>\n",
       "      <td>NaN</td>\n",
       "    </tr>\n",
       "    <tr>\n",
       "      <th>2</th>\n",
       "      <td>Afghanistan</td>\n",
       "      <td>AFG</td>\n",
       "      <td>2015</td>\n",
       "      <td>0.21</td>\n",
       "      <td>2068.265904</td>\n",
       "      <td>34413603.0</td>\n",
       "      <td>Asia</td>\n",
       "    </tr>\n",
       "    <tr>\n",
       "      <th>3</th>\n",
       "      <td>Afghanistan</td>\n",
       "      <td>AFG</td>\n",
       "      <td>2018</td>\n",
       "      <td>0.21</td>\n",
       "      <td>2033.804389</td>\n",
       "      <td>37171922.0</td>\n",
       "      <td>NaN</td>\n",
       "    </tr>\n",
       "    <tr>\n",
       "      <th>4</th>\n",
       "      <td>Afghanistan</td>\n",
       "      <td>AFG</td>\n",
       "      <td>2002</td>\n",
       "      <td>NaN</td>\n",
       "      <td>1189.784668</td>\n",
       "      <td>22600774.0</td>\n",
       "      <td>NaN</td>\n",
       "    </tr>\n",
       "  </tbody>\n",
       "</table>\n",
       "</div>"
      ],
      "text/plain": [
       "        Entity      Code  Year  \\\n",
       "0     Abkhazia  OWID_ABK  2015   \n",
       "1  Afghanistan       AFG  2010   \n",
       "2  Afghanistan       AFG  2015   \n",
       "3  Afghanistan       AFG  2018   \n",
       "4  Afghanistan       AFG  2002   \n",
       "\n",
       "   Total alcohol consumption per capita (liters of pure alcohol, projected estimates, 15+ years of age)  \\\n",
       "0                                                NaN                                                      \n",
       "1                                               0.21                                                      \n",
       "2                                               0.21                                                      \n",
       "3                                               0.21                                                      \n",
       "4                                                NaN                                                      \n",
       "\n",
       "   GDP per capita, PPP (constant 2017 international $)  \\\n",
       "0                                                NaN     \n",
       "1                                        1957.029070     \n",
       "2                                        2068.265904     \n",
       "3                                        2033.804389     \n",
       "4                                        1189.784668     \n",
       "\n",
       "   Population (historical estimates) Continent  \n",
       "0                                NaN      Asia  \n",
       "1                         29185511.0       NaN  \n",
       "2                         34413603.0      Asia  \n",
       "3                         37171922.0       NaN  \n",
       "4                         22600774.0       NaN  "
      ]
     },
     "execution_count": 79,
     "metadata": {},
     "output_type": "execute_result"
    }
   ],
   "source": [
    "# Import dataset\n",
    "df = pd.read_csv(\"alcohol-consumption-vs-gdp-per-capita.csv\")\n",
    "df.head()"
   ]
  },
  {
   "cell_type": "code",
   "execution_count": 80,
   "id": "002a4bc4",
   "metadata": {},
   "outputs": [
    {
     "data": {
      "text/html": [
       "<div>\n",
       "<style scoped>\n",
       "    .dataframe tbody tr th:only-of-type {\n",
       "        vertical-align: middle;\n",
       "    }\n",
       "\n",
       "    .dataframe tbody tr th {\n",
       "        vertical-align: top;\n",
       "    }\n",
       "\n",
       "    .dataframe thead th {\n",
       "        text-align: right;\n",
       "    }\n",
       "</style>\n",
       "<table border=\"1\" class=\"dataframe\">\n",
       "  <thead>\n",
       "    <tr style=\"text-align: right;\">\n",
       "      <th></th>\n",
       "      <th>Entity</th>\n",
       "      <th>Code</th>\n",
       "      <th>Year</th>\n",
       "      <th>Alcohol Consumption</th>\n",
       "      <th>GDP Per Capita</th>\n",
       "      <th>Population</th>\n",
       "      <th>Continent</th>\n",
       "    </tr>\n",
       "  </thead>\n",
       "  <tbody>\n",
       "    <tr>\n",
       "      <th>0</th>\n",
       "      <td>Abkhazia</td>\n",
       "      <td>OWID_ABK</td>\n",
       "      <td>2015</td>\n",
       "      <td>NaN</td>\n",
       "      <td>NaN</td>\n",
       "      <td>NaN</td>\n",
       "      <td>Asia</td>\n",
       "    </tr>\n",
       "    <tr>\n",
       "      <th>1</th>\n",
       "      <td>Afghanistan</td>\n",
       "      <td>AFG</td>\n",
       "      <td>2010</td>\n",
       "      <td>0.21</td>\n",
       "      <td>1957.029070</td>\n",
       "      <td>29185511.0</td>\n",
       "      <td>NaN</td>\n",
       "    </tr>\n",
       "    <tr>\n",
       "      <th>2</th>\n",
       "      <td>Afghanistan</td>\n",
       "      <td>AFG</td>\n",
       "      <td>2015</td>\n",
       "      <td>0.21</td>\n",
       "      <td>2068.265904</td>\n",
       "      <td>34413603.0</td>\n",
       "      <td>Asia</td>\n",
       "    </tr>\n",
       "    <tr>\n",
       "      <th>3</th>\n",
       "      <td>Afghanistan</td>\n",
       "      <td>AFG</td>\n",
       "      <td>2018</td>\n",
       "      <td>0.21</td>\n",
       "      <td>2033.804389</td>\n",
       "      <td>37171922.0</td>\n",
       "      <td>NaN</td>\n",
       "    </tr>\n",
       "    <tr>\n",
       "      <th>4</th>\n",
       "      <td>Afghanistan</td>\n",
       "      <td>AFG</td>\n",
       "      <td>2002</td>\n",
       "      <td>NaN</td>\n",
       "      <td>1189.784668</td>\n",
       "      <td>22600774.0</td>\n",
       "      <td>NaN</td>\n",
       "    </tr>\n",
       "  </tbody>\n",
       "</table>\n",
       "</div>"
      ],
      "text/plain": [
       "        Entity      Code  Year  Alcohol Consumption  GDP Per Capita  \\\n",
       "0     Abkhazia  OWID_ABK  2015                  NaN             NaN   \n",
       "1  Afghanistan       AFG  2010                 0.21     1957.029070   \n",
       "2  Afghanistan       AFG  2015                 0.21     2068.265904   \n",
       "3  Afghanistan       AFG  2018                 0.21     2033.804389   \n",
       "4  Afghanistan       AFG  2002                  NaN     1189.784668   \n",
       "\n",
       "   Population Continent  \n",
       "0         NaN      Asia  \n",
       "1  29185511.0       NaN  \n",
       "2  34413603.0      Asia  \n",
       "3  37171922.0       NaN  \n",
       "4  22600774.0       NaN  "
      ]
     },
     "execution_count": 80,
     "metadata": {},
     "output_type": "execute_result"
    }
   ],
   "source": [
    "#    Some of the column names are a bit long, so I'm going to change them\n",
    "# to give us the necessary amount of information\n",
    "\n",
    "df.rename(columns={'Total alcohol consumption per capita (liters of pure alcohol, projected estimates, 15+ years of age)':'Alcohol Consumption','GDP per capita, PPP (constant 2017 international $)':'GDP Per Capita','Population (historical estimates)':'Population'},\n",
    "         inplace=True,\n",
    "         )\n",
    "\n",
    "df.head()"
   ]
  },
  {
   "cell_type": "code",
   "execution_count": 81,
   "id": "a7ea5037",
   "metadata": {},
   "outputs": [
    {
     "data": {
      "text/html": [
       "<div>\n",
       "<style scoped>\n",
       "    .dataframe tbody tr th:only-of-type {\n",
       "        vertical-align: middle;\n",
       "    }\n",
       "\n",
       "    .dataframe tbody tr th {\n",
       "        vertical-align: top;\n",
       "    }\n",
       "\n",
       "    .dataframe thead th {\n",
       "        text-align: right;\n",
       "    }\n",
       "</style>\n",
       "<table border=\"1\" class=\"dataframe\">\n",
       "  <thead>\n",
       "    <tr style=\"text-align: right;\">\n",
       "      <th></th>\n",
       "      <th>Entity</th>\n",
       "      <th>Code</th>\n",
       "      <th>Year</th>\n",
       "      <th>Alcohol Consumption</th>\n",
       "      <th>GDP Per Capita</th>\n",
       "      <th>Population</th>\n",
       "      <th>Continent</th>\n",
       "    </tr>\n",
       "  </thead>\n",
       "  <tbody>\n",
       "    <tr>\n",
       "      <th>2</th>\n",
       "      <td>Afghanistan</td>\n",
       "      <td>AFG</td>\n",
       "      <td>2015</td>\n",
       "      <td>0.21</td>\n",
       "      <td>2068.265904</td>\n",
       "      <td>34413603.0</td>\n",
       "      <td>Asia</td>\n",
       "    </tr>\n",
       "    <tr>\n",
       "      <th>585</th>\n",
       "      <td>Albania</td>\n",
       "      <td>ALB</td>\n",
       "      <td>2015</td>\n",
       "      <td>6.74</td>\n",
       "      <td>11878.488093</td>\n",
       "      <td>2890524.0</td>\n",
       "      <td>Europe</td>\n",
       "    </tr>\n",
       "    <tr>\n",
       "      <th>844</th>\n",
       "      <td>Algeria</td>\n",
       "      <td>DZA</td>\n",
       "      <td>2015</td>\n",
       "      <td>0.93</td>\n",
       "      <td>11696.965229</td>\n",
       "      <td>39728020.0</td>\n",
       "      <td>Africa</td>\n",
       "    </tr>\n",
       "    <tr>\n",
       "      <th>1476</th>\n",
       "      <td>Angola</td>\n",
       "      <td>AGO</td>\n",
       "      <td>2015</td>\n",
       "      <td>7.96</td>\n",
       "      <td>8036.410898</td>\n",
       "      <td>27884380.0</td>\n",
       "      <td>Africa</td>\n",
       "    </tr>\n",
       "    <tr>\n",
       "      <th>1857</th>\n",
       "      <td>Antigua and Barbuda</td>\n",
       "      <td>ATG</td>\n",
       "      <td>2015</td>\n",
       "      <td>5.89</td>\n",
       "      <td>18594.261624</td>\n",
       "      <td>93571.0</td>\n",
       "      <td>North America</td>\n",
       "    </tr>\n",
       "  </tbody>\n",
       "</table>\n",
       "</div>"
      ],
      "text/plain": [
       "                   Entity Code  Year  Alcohol Consumption  GDP Per Capita  \\\n",
       "2             Afghanistan  AFG  2015                 0.21     2068.265904   \n",
       "585               Albania  ALB  2015                 6.74    11878.488093   \n",
       "844               Algeria  DZA  2015                 0.93    11696.965229   \n",
       "1476               Angola  AGO  2015                 7.96     8036.410898   \n",
       "1857  Antigua and Barbuda  ATG  2015                 5.89    18594.261624   \n",
       "\n",
       "      Population      Continent  \n",
       "2     34413603.0           Asia  \n",
       "585    2890524.0         Europe  \n",
       "844   39728020.0         Africa  \n",
       "1476  27884380.0         Africa  \n",
       "1857     93571.0  North America  "
      ]
     },
     "execution_count": 81,
     "metadata": {},
     "output_type": "execute_result"
    }
   ],
   "source": [
    "# Drop the missing data\n",
    "df = df.dropna()\n",
    "df.head()"
   ]
  },
  {
   "cell_type": "code",
   "execution_count": 82,
   "id": "de7525fa",
   "metadata": {},
   "outputs": [
    {
     "data": {
      "text/html": [
       "<div>\n",
       "<style scoped>\n",
       "    .dataframe tbody tr th:only-of-type {\n",
       "        vertical-align: middle;\n",
       "    }\n",
       "\n",
       "    .dataframe tbody tr th {\n",
       "        vertical-align: top;\n",
       "    }\n",
       "\n",
       "    .dataframe thead th {\n",
       "        text-align: right;\n",
       "    }\n",
       "</style>\n",
       "<table border=\"1\" class=\"dataframe\">\n",
       "  <thead>\n",
       "    <tr style=\"text-align: right;\">\n",
       "      <th></th>\n",
       "      <th>Entity</th>\n",
       "      <th>Average Consumption</th>\n",
       "    </tr>\n",
       "  </thead>\n",
       "  <tbody>\n",
       "    <tr>\n",
       "      <th>0</th>\n",
       "      <td>Seychelles</td>\n",
       "      <td>18.350</td>\n",
       "    </tr>\n",
       "    <tr>\n",
       "      <th>1</th>\n",
       "      <td>Lithuania</td>\n",
       "      <td>15.380</td>\n",
       "    </tr>\n",
       "    <tr>\n",
       "      <th>2</th>\n",
       "      <td>Uganda</td>\n",
       "      <td>15.140</td>\n",
       "    </tr>\n",
       "    <tr>\n",
       "      <th>3</th>\n",
       "      <td>Czechia</td>\n",
       "      <td>14.250</td>\n",
       "    </tr>\n",
       "    <tr>\n",
       "      <th>4</th>\n",
       "      <td>Luxembourg</td>\n",
       "      <td>13.180</td>\n",
       "    </tr>\n",
       "    <tr>\n",
       "      <th>...</th>\n",
       "      <td>...</td>\n",
       "      <td>...</td>\n",
       "    </tr>\n",
       "    <tr>\n",
       "      <th>175</th>\n",
       "      <td>Mauritania</td>\n",
       "      <td>0.033</td>\n",
       "    </tr>\n",
       "    <tr>\n",
       "      <th>176</th>\n",
       "      <td>Libya</td>\n",
       "      <td>0.029</td>\n",
       "    </tr>\n",
       "    <tr>\n",
       "      <th>177</th>\n",
       "      <td>Bangladesh</td>\n",
       "      <td>0.021</td>\n",
       "    </tr>\n",
       "    <tr>\n",
       "      <th>178</th>\n",
       "      <td>Somalia</td>\n",
       "      <td>0.013</td>\n",
       "    </tr>\n",
       "    <tr>\n",
       "      <th>179</th>\n",
       "      <td>Kuwait</td>\n",
       "      <td>0.003</td>\n",
       "    </tr>\n",
       "  </tbody>\n",
       "</table>\n",
       "<p>180 rows × 2 columns</p>\n",
       "</div>"
      ],
      "text/plain": [
       "         Entity  Average Consumption\n",
       "0    Seychelles               18.350\n",
       "1     Lithuania               15.380\n",
       "2        Uganda               15.140\n",
       "3       Czechia               14.250\n",
       "4    Luxembourg               13.180\n",
       "..          ...                  ...\n",
       "175  Mauritania                0.033\n",
       "176       Libya                0.029\n",
       "177  Bangladesh                0.021\n",
       "178     Somalia                0.013\n",
       "179      Kuwait                0.003\n",
       "\n",
       "[180 rows x 2 columns]"
      ]
     },
     "execution_count": 82,
     "metadata": {},
     "output_type": "execute_result"
    }
   ],
   "source": [
    "# Average alcohol consumption by country\n",
    "\n",
    "country_average = df.groupby(['Entity'])['Alcohol Consumption'].mean().sort_values(ascending=False).reset_index(name='Average Consumption')\n",
    "country_average"
   ]
  },
  {
   "cell_type": "code",
   "execution_count": 83,
   "id": "ece07047",
   "metadata": {},
   "outputs": [
    {
     "data": {
      "text/html": [
       "<div>\n",
       "<style scoped>\n",
       "    .dataframe tbody tr th:only-of-type {\n",
       "        vertical-align: middle;\n",
       "    }\n",
       "\n",
       "    .dataframe tbody tr th {\n",
       "        vertical-align: top;\n",
       "    }\n",
       "\n",
       "    .dataframe thead th {\n",
       "        text-align: right;\n",
       "    }\n",
       "</style>\n",
       "<table border=\"1\" class=\"dataframe\">\n",
       "  <thead>\n",
       "    <tr style=\"text-align: right;\">\n",
       "      <th></th>\n",
       "      <th>Entity</th>\n",
       "      <th>Average Consumption</th>\n",
       "    </tr>\n",
       "  </thead>\n",
       "  <tbody>\n",
       "    <tr>\n",
       "      <th>0</th>\n",
       "      <td>Seychelles</td>\n",
       "      <td>18.35</td>\n",
       "    </tr>\n",
       "    <tr>\n",
       "      <th>1</th>\n",
       "      <td>Lithuania</td>\n",
       "      <td>15.38</td>\n",
       "    </tr>\n",
       "    <tr>\n",
       "      <th>2</th>\n",
       "      <td>Uganda</td>\n",
       "      <td>15.14</td>\n",
       "    </tr>\n",
       "    <tr>\n",
       "      <th>3</th>\n",
       "      <td>Czechia</td>\n",
       "      <td>14.25</td>\n",
       "    </tr>\n",
       "    <tr>\n",
       "      <th>4</th>\n",
       "      <td>Luxembourg</td>\n",
       "      <td>13.18</td>\n",
       "    </tr>\n",
       "  </tbody>\n",
       "</table>\n",
       "</div>"
      ],
      "text/plain": [
       "       Entity  Average Consumption\n",
       "0  Seychelles                18.35\n",
       "1   Lithuania                15.38\n",
       "2      Uganda                15.14\n",
       "3     Czechia                14.25\n",
       "4  Luxembourg                13.18"
      ]
     },
     "execution_count": 83,
     "metadata": {},
     "output_type": "execute_result"
    }
   ],
   "source": [
    "# The top five countries by average consumption\n",
    "\n",
    "top_average = country_average.head()\n",
    "top_average"
   ]
  },
  {
   "cell_type": "code",
   "execution_count": 84,
   "id": "5cd50317",
   "metadata": {},
   "outputs": [
    {
     "data": {
      "image/png": "[encoded data removed]",
      "text/plain": [
       "<Figure size 720x360 with 1 Axes>"
      ]
     },
     "metadata": {
      "needs_background": "light"
     },
     "output_type": "display_data"
    }
   ],
   "source": [
    "fig = plt.figure(figsize = (10, 5))\n",
    "plt.bar(top_average['Entity'], top_average['Average Consumption'], color ='maroon', width = 0.4)\n",
    "plt.title(\"Top Five Countries Adjusted Consumption of Alcohol\")\n",
    "plt.show()"
   ]
  },
  {
   "cell_type": "code",
   "execution_count": 85,
   "id": "9c447db2",
   "metadata": {},
   "outputs": [
    {
     "data": {
      "text/html": [
       "<div>\n",
       "<style scoped>\n",
       "    .dataframe tbody tr th:only-of-type {\n",
       "        vertical-align: middle;\n",
       "    }\n",
       "\n",
       "    .dataframe tbody tr th {\n",
       "        vertical-align: top;\n",
       "    }\n",
       "\n",
       "    .dataframe thead th {\n",
       "        text-align: right;\n",
       "    }\n",
       "</style>\n",
       "<table border=\"1\" class=\"dataframe\">\n",
       "  <thead>\n",
       "    <tr style=\"text-align: right;\">\n",
       "      <th></th>\n",
       "      <th>Entity</th>\n",
       "      <th>Average Consumption</th>\n",
       "    </tr>\n",
       "  </thead>\n",
       "  <tbody>\n",
       "    <tr>\n",
       "      <th>175</th>\n",
       "      <td>Mauritania</td>\n",
       "      <td>0.033</td>\n",
       "    </tr>\n",
       "    <tr>\n",
       "      <th>176</th>\n",
       "      <td>Libya</td>\n",
       "      <td>0.029</td>\n",
       "    </tr>\n",
       "    <tr>\n",
       "      <th>177</th>\n",
       "      <td>Bangladesh</td>\n",
       "      <td>0.021</td>\n",
       "    </tr>\n",
       "    <tr>\n",
       "      <th>178</th>\n",
       "      <td>Somalia</td>\n",
       "      <td>0.013</td>\n",
       "    </tr>\n",
       "    <tr>\n",
       "      <th>179</th>\n",
       "      <td>Kuwait</td>\n",
       "      <td>0.003</td>\n",
       "    </tr>\n",
       "  </tbody>\n",
       "</table>\n",
       "</div>"
      ],
      "text/plain": [
       "         Entity  Average Consumption\n",
       "175  Mauritania                0.033\n",
       "176       Libya                0.029\n",
       "177  Bangladesh                0.021\n",
       "178     Somalia                0.013\n",
       "179      Kuwait                0.003"
      ]
     },
     "execution_count": 85,
     "metadata": {},
     "output_type": "execute_result"
    }
   ],
   "source": [
    "# Bottom five countries in average consumption\n",
    "\n",
    "bottom_average = country_average[-5:]\n",
    "bottom_average"
   ]
  },
  {
   "cell_type": "code",
   "execution_count": 86,
   "id": "bfaaf41e",
   "metadata": {},
   "outputs": [
    {
     "data": {
      "image/png": "[encoded data removed]",
      "text/plain": [
       "<Figure size 720x360 with 1 Axes>"
      ]
     },
     "metadata": {
      "needs_background": "light"
     },
     "output_type": "display_data"
    }
   ],
   "source": [
    "fig = plt.figure(figsize = (10, 5))\n",
    "plt.bar(bottom_average['Entity'], bottom_average['Average Consumption'], color ='maroon', width = 0.4)\n",
    "plt.title(\"Bottom Five Countries Adjusted Consumption of Alcohol\")\n",
    "plt.show()"
   ]
  },
  {
   "cell_type": "code",
   "execution_count": 87,
   "id": "02e5727e",
   "metadata": {},
   "outputs": [
    {
     "data": {
      "text/html": [
       "<div>\n",
       "<style scoped>\n",
       "    .dataframe tbody tr th:only-of-type {\n",
       "        vertical-align: middle;\n",
       "    }\n",
       "\n",
       "    .dataframe tbody tr th {\n",
       "        vertical-align: top;\n",
       "    }\n",
       "\n",
       "    .dataframe thead th {\n",
       "        text-align: right;\n",
       "    }\n",
       "</style>\n",
       "<table border=\"1\" class=\"dataframe\">\n",
       "  <thead>\n",
       "    <tr style=\"text-align: right;\">\n",
       "      <th></th>\n",
       "      <th>Continent</th>\n",
       "      <th>Average Consumption</th>\n",
       "    </tr>\n",
       "  </thead>\n",
       "  <tbody>\n",
       "    <tr>\n",
       "      <th>0</th>\n",
       "      <td>Europe</td>\n",
       "      <td>10.875750</td>\n",
       "    </tr>\n",
       "    <tr>\n",
       "      <th>1</th>\n",
       "      <td>South America</td>\n",
       "      <td>6.919091</td>\n",
       "    </tr>\n",
       "    <tr>\n",
       "      <th>2</th>\n",
       "      <td>North America</td>\n",
       "      <td>6.605455</td>\n",
       "    </tr>\n",
       "    <tr>\n",
       "      <th>3</th>\n",
       "      <td>Africa</td>\n",
       "      <td>4.782019</td>\n",
       "    </tr>\n",
       "    <tr>\n",
       "      <th>4</th>\n",
       "      <td>Asia</td>\n",
       "      <td>3.747302</td>\n",
       "    </tr>\n",
       "    <tr>\n",
       "      <th>5</th>\n",
       "      <td>Oceania</td>\n",
       "      <td>3.466667</td>\n",
       "    </tr>\n",
       "  </tbody>\n",
       "</table>\n",
       "</div>"
      ],
      "text/plain": [
       "       Continent  Average Consumption\n",
       "0         Europe            10.875750\n",
       "1  South America             6.919091\n",
       "2  North America             6.605455\n",
       "3         Africa             4.782019\n",
       "4           Asia             3.747302\n",
       "5        Oceania             3.466667"
      ]
     },
     "execution_count": 87,
     "metadata": {},
     "output_type": "execute_result"
    }
   ],
   "source": [
    "# Average consumption by continent\n",
    "\n",
    "continent_average = df.groupby(['Continent'])['Alcohol Consumption'].mean().sort_values(ascending=False).reset_index(name='Average Consumption')\n",
    "continent_average"
   ]
  },
  {
   "cell_type": "code",
   "execution_count": 88,
   "id": "c6ca5ab3",
   "metadata": {},
   "outputs": [
    {
     "data": {
      "image/png": "[encoded data removed]",
      "text/plain": [
       "<Figure size 720x360 with 1 Axes>"
      ]
     },
     "metadata": {
      "needs_background": "light"
     },
     "output_type": "display_data"
    }
   ],
   "source": [
    "fig = plt.figure(figsize = (10, 5))\n",
    "plt.bar(continent_average['Continent'], continent_average['Average Consumption'], color ='maroon', width = 0.4)\n",
    "plt.title(\"Continents Average Adjusted Consumption of Alcohol\")\n",
    "plt.show()"
   ]
  },
  {
   "cell_type": "code",
   "execution_count": 89,
   "id": "3cb199c3",
   "metadata": {},
   "outputs": [
    {
     "data": {
      "text/html": [
       "<div>\n",
       "<style scoped>\n",
       "    .dataframe tbody tr th:only-of-type {\n",
       "        vertical-align: middle;\n",
       "    }\n",
       "\n",
       "    .dataframe tbody tr th {\n",
       "        vertical-align: top;\n",
       "    }\n",
       "\n",
       "    .dataframe thead th {\n",
       "        text-align: right;\n",
       "    }\n",
       "</style>\n",
       "<table border=\"1\" class=\"dataframe\">\n",
       "  <thead>\n",
       "    <tr style=\"text-align: right;\">\n",
       "      <th></th>\n",
       "      <th>Continent</th>\n",
       "      <th>GDP Per Capita</th>\n",
       "    </tr>\n",
       "  </thead>\n",
       "  <tbody>\n",
       "    <tr>\n",
       "      <th>0</th>\n",
       "      <td>Europe</td>\n",
       "      <td>36747.393491</td>\n",
       "    </tr>\n",
       "    <tr>\n",
       "      <th>1</th>\n",
       "      <td>Asia</td>\n",
       "      <td>21898.297092</td>\n",
       "    </tr>\n",
       "    <tr>\n",
       "      <th>2</th>\n",
       "      <td>North America</td>\n",
       "      <td>18736.726988</td>\n",
       "    </tr>\n",
       "    <tr>\n",
       "      <th>3</th>\n",
       "      <td>South America</td>\n",
       "      <td>15850.738070</td>\n",
       "    </tr>\n",
       "    <tr>\n",
       "      <th>4</th>\n",
       "      <td>Oceania</td>\n",
       "      <td>12136.344981</td>\n",
       "    </tr>\n",
       "    <tr>\n",
       "      <th>5</th>\n",
       "      <td>Africa</td>\n",
       "      <td>5767.072745</td>\n",
       "    </tr>\n",
       "  </tbody>\n",
       "</table>\n",
       "</div>"
      ],
      "text/plain": [
       "       Continent  GDP Per Capita\n",
       "0         Europe    36747.393491\n",
       "1           Asia    21898.297092\n",
       "2  North America    18736.726988\n",
       "3  South America    15850.738070\n",
       "4        Oceania    12136.344981\n",
       "5         Africa     5767.072745"
      ]
     },
     "execution_count": 89,
     "metadata": {},
     "output_type": "execute_result"
    }
   ],
   "source": [
    "continent_GDP = df.groupby(['Continent'])['GDP Per Capita'].mean().sort_values(ascending=False).reset_index(name='GDP Per Capita')\n",
    "continent_GDP"
   ]
  },
  {
   "cell_type": "code",
   "execution_count": 90,
   "id": "0ad77c1c",
   "metadata": {},
   "outputs": [
    {
     "data": {
      "image/png": "[encoded data removed]",
      "text/plain": [
       "<Figure size 720x360 with 1 Axes>"
      ]
     },
     "metadata": {
      "needs_background": "light"
     },
     "output_type": "display_data"
    }
   ],
   "source": [
    "fig = plt.figure(figsize = (10, 5))\n",
    "plt.bar(continent_GDP['Continent'], continent_GDP['GDP Per Capita'], color ='maroon', width = 0.4)\n",
    "plt.title(\"Continents GDP\")\n",
    "plt.show()"
   ]
  },
  {
   "cell_type": "code",
   "execution_count": 91,
   "id": "26d4aa5f",
   "metadata": {},
   "outputs": [
    {
     "data": {
      "text/html": [
       "<div>\n",
       "<style scoped>\n",
       "    .dataframe tbody tr th:only-of-type {\n",
       "        vertical-align: middle;\n",
       "    }\n",
       "\n",
       "    .dataframe tbody tr th {\n",
       "        vertical-align: top;\n",
       "    }\n",
       "\n",
       "    .dataframe thead th {\n",
       "        text-align: right;\n",
       "    }\n",
       "</style>\n",
       "<table border=\"1\" class=\"dataframe\">\n",
       "  <thead>\n",
       "    <tr style=\"text-align: right;\">\n",
       "      <th></th>\n",
       "      <th>Entity</th>\n",
       "      <th>Code</th>\n",
       "      <th>Year</th>\n",
       "      <th>Alcohol Consumption</th>\n",
       "      <th>GDP Per Capita</th>\n",
       "      <th>Population</th>\n",
       "      <th>Continent</th>\n",
       "    </tr>\n",
       "  </thead>\n",
       "  <tbody>\n",
       "    <tr>\n",
       "      <th>585</th>\n",
       "      <td>Albania</td>\n",
       "      <td>ALB</td>\n",
       "      <td>2015</td>\n",
       "      <td>6.74</td>\n",
       "      <td>11878.488093</td>\n",
       "      <td>2890524.0</td>\n",
       "      <td>Europe</td>\n",
       "    </tr>\n",
       "    <tr>\n",
       "      <th>3289</th>\n",
       "      <td>Austria</td>\n",
       "      <td>AUT</td>\n",
       "      <td>2015</td>\n",
       "      <td>12.07</td>\n",
       "      <td>52798.099461</td>\n",
       "      <td>8678667.0</td>\n",
       "      <td>Europe</td>\n",
       "    </tr>\n",
       "    <tr>\n",
       "      <th>4837</th>\n",
       "      <td>Belarus</td>\n",
       "      <td>BLR</td>\n",
       "      <td>2015</td>\n",
       "      <td>12.00</td>\n",
       "      <td>18307.519668</td>\n",
       "      <td>9439424.0</td>\n",
       "      <td>Europe</td>\n",
       "    </tr>\n",
       "    <tr>\n",
       "      <th>5096</th>\n",
       "      <td>Belgium</td>\n",
       "      <td>BEL</td>\n",
       "      <td>2015</td>\n",
       "      <td>11.82</td>\n",
       "      <td>49455.441337</td>\n",
       "      <td>11287931.0</td>\n",
       "      <td>Europe</td>\n",
       "    </tr>\n",
       "    <tr>\n",
       "      <th>6535</th>\n",
       "      <td>Bosnia and Herzegovina</td>\n",
       "      <td>BIH</td>\n",
       "      <td>2015</td>\n",
       "      <td>6.92</td>\n",
       "      <td>12630.662343</td>\n",
       "      <td>3429362.0</td>\n",
       "      <td>Europe</td>\n",
       "    </tr>\n",
       "  </tbody>\n",
       "</table>\n",
       "</div>"
      ],
      "text/plain": [
       "                      Entity Code  Year  Alcohol Consumption  GDP Per Capita  \\\n",
       "585                  Albania  ALB  2015                 6.74    11878.488093   \n",
       "3289                 Austria  AUT  2015                12.07    52798.099461   \n",
       "4837                 Belarus  BLR  2015                12.00    18307.519668   \n",
       "5096                 Belgium  BEL  2015                11.82    49455.441337   \n",
       "6535  Bosnia and Herzegovina  BIH  2015                 6.92    12630.662343   \n",
       "\n",
       "      Population Continent  \n",
       "585    2890524.0    Europe  \n",
       "3289   8678667.0    Europe  \n",
       "4837   9439424.0    Europe  \n",
       "5096  11287931.0    Europe  \n",
       "6535   3429362.0    Europe  "
      ]
     },
     "execution_count": 91,
     "metadata": {},
     "output_type": "execute_result"
    }
   ],
   "source": [
    "europe = df[df['Continent'] == 'Europe']\n",
    "europe.head()"
   ]
  },
  {
   "cell_type": "code",
   "execution_count": 92,
   "id": "718f6c04",
   "metadata": {},
   "outputs": [
    {
     "data": {
      "text/html": [
       "<div>\n",
       "<style scoped>\n",
       "    .dataframe tbody tr th:only-of-type {\n",
       "        vertical-align: middle;\n",
       "    }\n",
       "\n",
       "    .dataframe tbody tr th {\n",
       "        vertical-align: top;\n",
       "    }\n",
       "\n",
       "    .dataframe thead th {\n",
       "        text-align: right;\n",
       "    }\n",
       "</style>\n",
       "<table border=\"1\" class=\"dataframe\">\n",
       "  <thead>\n",
       "    <tr style=\"text-align: right;\">\n",
       "      <th></th>\n",
       "      <th>Entity</th>\n",
       "      <th>Average Consumption</th>\n",
       "    </tr>\n",
       "  </thead>\n",
       "  <tbody>\n",
       "    <tr>\n",
       "      <th>0</th>\n",
       "      <td>Lithuania</td>\n",
       "      <td>15.38</td>\n",
       "    </tr>\n",
       "    <tr>\n",
       "      <th>1</th>\n",
       "      <td>Czechia</td>\n",
       "      <td>14.25</td>\n",
       "    </tr>\n",
       "    <tr>\n",
       "      <th>2</th>\n",
       "      <td>Luxembourg</td>\n",
       "      <td>13.18</td>\n",
       "    </tr>\n",
       "    <tr>\n",
       "      <th>3</th>\n",
       "      <td>Germany</td>\n",
       "      <td>13.06</td>\n",
       "    </tr>\n",
       "    <tr>\n",
       "      <th>4</th>\n",
       "      <td>Slovenia</td>\n",
       "      <td>12.74</td>\n",
       "    </tr>\n",
       "  </tbody>\n",
       "</table>\n",
       "</div>"
      ],
      "text/plain": [
       "       Entity  Average Consumption\n",
       "0   Lithuania                15.38\n",
       "1     Czechia                14.25\n",
       "2  Luxembourg                13.18\n",
       "3     Germany                13.06\n",
       "4    Slovenia                12.74"
      ]
     },
     "execution_count": 92,
     "metadata": {},
     "output_type": "execute_result"
    }
   ],
   "source": [
    "country_average_europe = europe.groupby(['Entity'])['Alcohol Consumption'].mean().sort_values(ascending=False).reset_index(name='Average Consumption')\n",
    "country_average_europe.head()"
   ]
  },
  {
   "cell_type": "code",
   "execution_count": 93,
   "id": "a1606854",
   "metadata": {},
   "outputs": [
    {
     "data": {
      "text/html": [
       "<div>\n",
       "<style scoped>\n",
       "    .dataframe tbody tr th:only-of-type {\n",
       "        vertical-align: middle;\n",
       "    }\n",
       "\n",
       "    .dataframe tbody tr th {\n",
       "        vertical-align: top;\n",
       "    }\n",
       "\n",
       "    .dataframe thead th {\n",
       "        text-align: right;\n",
       "    }\n",
       "</style>\n",
       "<table border=\"1\" class=\"dataframe\">\n",
       "  <thead>\n",
       "    <tr style=\"text-align: right;\">\n",
       "      <th></th>\n",
       "      <th>Entity</th>\n",
       "      <th>GDP Per Capita</th>\n",
       "    </tr>\n",
       "  </thead>\n",
       "  <tbody>\n",
       "    <tr>\n",
       "      <th>0</th>\n",
       "      <td>Luxembourg</td>\n",
       "      <td>110446.086102</td>\n",
       "    </tr>\n",
       "    <tr>\n",
       "      <th>1</th>\n",
       "      <td>Ireland</td>\n",
       "      <td>72251.153536</td>\n",
       "    </tr>\n",
       "    <tr>\n",
       "      <th>2</th>\n",
       "      <td>Switzerland</td>\n",
       "      <td>68025.920038</td>\n",
       "    </tr>\n",
       "    <tr>\n",
       "      <th>3</th>\n",
       "      <td>Norway</td>\n",
       "      <td>62987.535863</td>\n",
       "    </tr>\n",
       "    <tr>\n",
       "      <th>4</th>\n",
       "      <td>Netherlands</td>\n",
       "      <td>52974.116220</td>\n",
       "    </tr>\n",
       "  </tbody>\n",
       "</table>\n",
       "</div>"
      ],
      "text/plain": [
       "        Entity  GDP Per Capita\n",
       "0   Luxembourg   110446.086102\n",
       "1      Ireland    72251.153536\n",
       "2  Switzerland    68025.920038\n",
       "3       Norway    62987.535863\n",
       "4  Netherlands    52974.116220"
      ]
     },
     "execution_count": 93,
     "metadata": {},
     "output_type": "execute_result"
    }
   ],
   "source": [
    "country_GDP_europe = europe.groupby(['Entity'])['GDP Per Capita'].mean().sort_values(ascending=False).reset_index(name='GDP Per Capita')\n",
    "country_GDP_europe.head()"
   ]
  },
  {
   "cell_type": "code",
   "execution_count": 94,
   "id": "5913745c",
   "metadata": {},
   "outputs": [],
   "source": [
    "top_consumption_europe = country_average_europe[0:5]\n",
    "\n",
    "top_GDP_europe = country_GDP_europe[0:5]"
   ]
  },
  {
   "cell_type": "code",
   "execution_count": 95,
   "id": "19d31e61",
   "metadata": {},
   "outputs": [
    {
     "data": {
      "image/png": "[encoded data removed]",
      "text/plain": [
       "<Figure size 720x360 with 1 Axes>"
      ]
     },
     "metadata": {
      "needs_background": "light"
     },
     "output_type": "display_data"
    }
   ],
   "source": [
    "fig = plt.figure(figsize = (10, 5))\n",
    "plt.bar(top_consumption_europe['Entity'], top_consumption_europe['Average Consumption'], color ='maroon', width = 0.4)\n",
    "plt.title(\"Europe's Top Five in Alcohol Consumption\")\n",
    "plt.show()"
   ]
  },
  {
   "cell_type": "code",
   "execution_count": 96,
   "id": "88b3b064",
   "metadata": {},
   "outputs": [
    {
     "data": {
      "image/png": "[encoded data removed]",
      "text/plain": [
       "<Figure size 720x360 with 1 Axes>"
      ]
     },
     "metadata": {
      "needs_background": "light"
     },
     "output_type": "display_data"
    }
   ],
   "source": [
    "fig = plt.figure(figsize = (10, 5))\n",
    "plt.bar(top_GDP_europe['Entity'], top_GDP_europe['GDP Per Capita'], color ='maroon', width = 0.4)\n",
    "plt.title(\"Europe's Top Five in GDP\")\n",
    "plt.show()"
   ]
  },
  {
   "cell_type": "markdown",
   "id": "c9e690e5",
   "metadata": {},
   "source": [
    "## Correlation Analysis"
   ]
  },
  {
   "cell_type": "code",
   "execution_count": 97,
   "id": "39970111",
   "metadata": {},
   "outputs": [
    {
     "data": {
      "text/html": [
       "<div>\n",
       "<style scoped>\n",
       "    .dataframe tbody tr th:only-of-type {\n",
       "        vertical-align: middle;\n",
       "    }\n",
       "\n",
       "    .dataframe tbody tr th {\n",
       "        vertical-align: top;\n",
       "    }\n",
       "\n",
       "    .dataframe thead th {\n",
       "        text-align: right;\n",
       "    }\n",
       "</style>\n",
       "<table border=\"1\" class=\"dataframe\">\n",
       "  <thead>\n",
       "    <tr style=\"text-align: right;\">\n",
       "      <th></th>\n",
       "      <th>Entity</th>\n",
       "      <th>Alcohol Consumption</th>\n",
       "      <th>GDP Per Capita</th>\n",
       "      <th>Population</th>\n",
       "    </tr>\n",
       "  </thead>\n",
       "  <tbody>\n",
       "    <tr>\n",
       "      <th>2</th>\n",
       "      <td>Afghanistan</td>\n",
       "      <td>0.21</td>\n",
       "      <td>2068.265904</td>\n",
       "      <td>34413603.0</td>\n",
       "    </tr>\n",
       "    <tr>\n",
       "      <th>585</th>\n",
       "      <td>Albania</td>\n",
       "      <td>6.74</td>\n",
       "      <td>11878.488093</td>\n",
       "      <td>2890524.0</td>\n",
       "    </tr>\n",
       "    <tr>\n",
       "      <th>844</th>\n",
       "      <td>Algeria</td>\n",
       "      <td>0.93</td>\n",
       "      <td>11696.965229</td>\n",
       "      <td>39728020.0</td>\n",
       "    </tr>\n",
       "    <tr>\n",
       "      <th>1476</th>\n",
       "      <td>Angola</td>\n",
       "      <td>7.96</td>\n",
       "      <td>8036.410898</td>\n",
       "      <td>27884380.0</td>\n",
       "    </tr>\n",
       "    <tr>\n",
       "      <th>1857</th>\n",
       "      <td>Antigua and Barbuda</td>\n",
       "      <td>5.89</td>\n",
       "      <td>18594.261624</td>\n",
       "      <td>93571.0</td>\n",
       "    </tr>\n",
       "  </tbody>\n",
       "</table>\n",
       "</div>"
      ],
      "text/plain": [
       "                   Entity  Alcohol Consumption  GDP Per Capita  Population\n",
       "2             Afghanistan                 0.21     2068.265904  34413603.0\n",
       "585               Albania                 6.74    11878.488093   2890524.0\n",
       "844               Algeria                 0.93    11696.965229  39728020.0\n",
       "1476               Angola                 7.96     8036.410898  27884380.0\n",
       "1857  Antigua and Barbuda                 5.89    18594.261624     93571.0"
      ]
     },
     "execution_count": 97,
     "metadata": {},
     "output_type": "execute_result"
    }
   ],
   "source": [
    "columns_of_interest = ['Entity','Alcohol Consumption','GDP Per Capita','Population']\n",
    "subset_data = df[columns_of_interest]\n",
    "subset_data.head()"
   ]
  },
  {
   "cell_type": "code",
   "execution_count": 98,
   "id": "ab71d5e7",
   "metadata": {},
   "outputs": [],
   "source": [
    "correlation_matrix = subset_data.corr()"
   ]
  },
  {
   "cell_type": "code",
   "execution_count": 99,
   "id": "0c584f76",
   "metadata": {},
   "outputs": [
    {
     "data": {
      "image/png": "[encoded data removed]",
      "text/plain": [
       "<Figure size 720x576 with 2 Axes>"
      ]
     },
     "metadata": {
      "needs_background": "light"
     },
     "output_type": "display_data"
    }
   ],
   "source": [
    "plt.figure(figsize=(10, 8))\n",
    "sb.heatmap(correlation_matrix, annot=True, cmap='coolwarm', center=0)\n",
    "plt.title('Correlation Matrix')\n",
    "plt.show()"
   ]
  },
  {
   "cell_type": "markdown",
   "id": "8e3c941f",
   "metadata": {},
   "source": [
    "This shows that Alcohol consumption and GDP Per Capita are somewhat correlated. On average when GDP Per Capita goes up, alcohol consumption goes up. However, they are not tightly correlated, so there must be other factors."
   ]
  },
  {
   "cell_type": "markdown",
   "id": "303cb7c3",
   "metadata": {},
   "source": [
    "## Regional Comparison"
   ]
  },
  {
   "cell_type": "code",
   "execution_count": 100,
   "id": "c4dedb2b",
   "metadata": {},
   "outputs": [],
   "source": [
    "grouped_by_continent = df.groupby('Continent')\n",
    "continent_comparison = grouped_by_continent[['Alcohol Consumption', 'GDP Per Capita', 'Population']].mean()"
   ]
  },
  {
   "cell_type": "code",
   "execution_count": 101,
   "id": "c96387cd",
   "metadata": {},
   "outputs": [
    {
     "data": {
      "image/png": "[encoded data removed]",
      "text/plain": [
       "<Figure size 720x1080 with 3 Axes>"
      ]
     },
     "metadata": {
      "needs_background": "light"
     },
     "output_type": "display_data"
    }
   ],
   "source": [
    "continent_comparison.plot(kind='bar', subplots=True, layout=(3, 1), figsize=(10, 15))\n",
    "plt.tight_layout()\n",
    "plt.show()"
   ]
  },
  {
   "cell_type": "markdown",
   "id": "2899c416",
   "metadata": {},
   "source": [
    "## Population vs Alcohol Consumption"
   ]
  },
  {
   "cell_type": "code",
   "execution_count": 102,
   "id": "98ddc9fe",
   "metadata": {},
   "outputs": [
    {
     "data": {
      "image/png": "[encoded data removed]",
      "text/plain": [
       "<Figure size 720x432 with 1 Axes>"
      ]
     },
     "metadata": {
      "needs_background": "light"
     },
     "output_type": "display_data"
    }
   ],
   "source": [
    "# Select data for scatter plot\n",
    "x = df['GDP Per Capita']\n",
    "y = df['Alcohol Consumption']\n",
    "\n",
    "# Create the scatter plot\n",
    "plt.figure(figsize=(10, 6))\n",
    "plt.scatter(x, y, alpha=0.7)\n",
    "plt.title('GDP vs Alcohol Consumption')\n",
    "plt.xlabel('GDP Per Capita')\n",
    "plt.ylabel('Alcohol Consumption')\n",
    "plt.grid(True)\n",
    "plt.show()"
   ]
  },
  {
   "cell_type": "markdown",
   "id": "455fbac3",
   "metadata": {},
   "source": [
    "## Comparing GDP"
   ]
  },
  {
   "cell_type": "code",
   "execution_count": 103,
   "id": "a6e698ba",
   "metadata": {},
   "outputs": [],
   "source": [
    "high_gdp_threshold = df['GDP Per Capita'].quantile(0.75)\n",
    "high_gdp_countries = df[df['GDP Per Capita'] >= high_gdp_threshold]\n",
    "low_gdp_countries = df[df['GDP Per Capita'] < high_gdp_threshold]"
   ]
  },
  {
   "cell_type": "code",
   "execution_count": 109,
   "id": "513d64cd",
   "metadata": {},
   "outputs": [
    {
     "name": "stdout",
     "output_type": "stream",
     "text": [
      "Mean Alcohol Consumption in High GDP Countries: 8.72\n",
      "Mean Alcohol Consumption in Low GDP Countries: 5.30\n"
     ]
    }
   ],
   "source": [
    "mean_alcohol_high_gdp = high_gdp_countries['Alcohol Consumption'].mean()\n",
    "mean_alcohol_low_gdp = low_gdp_countries['Alcohol Consumption'].mean()\n",
    "\n",
    "print(f\"Mean Alcohol Consumption in High GDP Countries: {mean_alcohol_high_gdp:.2f}\")\n",
    "print(f\"Mean Alcohol Consumption in Low GDP Countries: {mean_alcohol_low_gdp:.2f}\")"
   ]
  },
  {
   "cell_type": "code",
   "execution_count": 105,
   "id": "709c5fdf",
   "metadata": {},
   "outputs": [
    {
     "data": {
      "image/png": "[encoded data removed]",
      "text/plain": [
       "<Figure size 720x432 with 1 Axes>"
      ]
     },
     "metadata": {
      "needs_background": "light"
     },
     "output_type": "display_data"
    }
   ],
   "source": [
    "plt.figure(figsize=(10, 6))\n",
    "plt.bar(['High GDP', 'Low GDP'], [mean_alcohol_high_gdp, mean_alcohol_low_gdp])\n",
    "plt.title('Mean Alcohol Consumption Comparison')\n",
    "plt.ylabel('Mean Alcohol Consumption')\n",
    "plt.show()"
   ]
  },
  {
   "cell_type": "markdown",
   "id": "c2ca71d3",
   "metadata": {},
   "source": [
    "## Outlier Detection"
   ]
  },
  {
   "cell_type": "code",
   "execution_count": 106,
   "id": "8012ee7a",
   "metadata": {},
   "outputs": [],
   "source": [
    "column_for_outliers = 'Alcohol Consumption'\n",
    "z_scores = np.abs(zscore(df[column_for_outliers]))\n",
    "z_score_threshold = 3\n",
    "\n",
    "outlier_mask = z_scores > z_score_threshold\n",
    "outlier_indices = np.where(outlier_mask)[0]\n",
    "outlier_values = df.loc[outlier_indices, column_for_outliers]"
   ]
  },
  {
   "cell_type": "code",
   "execution_count": 107,
   "id": "6b0d2782",
   "metadata": {},
   "outputs": [
    {
     "name": "stdout",
     "output_type": "stream",
     "text": [
      "Number of outliers: 0\n",
      "Outlier indices: []\n",
      "Outlier values: Series([], Name: Alcohol Consumption, dtype: float64)\n"
     ]
    },
    {
     "data": {
      "image/png": "[encoded data removed]",
      "text/plain": [
       "<Figure size 720x432 with 1 Axes>"
      ]
     },
     "metadata": {
      "needs_background": "light"
     },
     "output_type": "display_data"
    }
   ],
   "source": [
    "print(\"Number of outliers:\", len(outlier_indices))\n",
    "print(\"Outlier indices:\", outlier_indices)\n",
    "print(\"Outlier values:\", outlier_values)\n",
    "\n",
    "\n",
    "plt.figure(figsize=(10, 6))\n",
    "plt.hist(df[column_for_outliers], bins=20, alpha=0.5, label='All Data')\n",
    "plt.hist(outlier_values, bins=10, alpha=0.7, label='Outliers')\n",
    "plt.xlabel(column_for_outliers)\n",
    "plt.ylabel('Frequency')\n",
    "plt.title('Outlier Detection using Z-Score')\n",
    "plt.legend()\n",
    "plt.show()"
   ]
  },
  {
   "cell_type": "markdown",
   "id": "31275502",
   "metadata": {},
   "source": [
    "## Geospatial Visualizations"
   ]
  },
  {
   "cell_type": "code",
   "execution_count": 108,
   "id": "a448cc79",
   "metadata": {},
   "outputs": [
    {
     "data": {
      "image/png": "[encoded data removed]",
      "text/plain": [
       "<Figure size 720x432 with 2 Axes>"
      ]
     },
     "metadata": {
      "needs_background": "light"
     },
     "output_type": "display_data"
    }
   ],
   "source": [
    "# Load the world map data\n",
    "world = gpd.read_file(gpd.datasets.get_path('naturalearth_lowres'))\n",
    "\n",
    "# Merge the world map data with your dataset based on country names\n",
    "merged_data = world.merge(df, left_on='name', right_on='Entity', how='left')\n",
    "\n",
    "# Plot the geospatial visualization\n",
    "fig, ax = plt.subplots(1, 1, figsize=(10, 6))\n",
    "merged_data.plot(column='Alcohol Consumption', ax=ax, legend=True)\n",
    "plt.title('Geospatial Visualization of Alcohol Consumption')\n",
    "plt.show()"
   ]
  },
  {
   "cell_type": "code",
   "execution_count": null,
   "id": "15a3802e",
   "metadata": {},
   "outputs": [],
   "source": []
  }
 ],
 "metadata": {
  "kernelspec": {
   "display_name": "Python 3 (ipykernel)",
   "language": "python",
   "name": "python3"
  },
  "language_info": {
   "codemirror_mode": {
    "name": "ipython",
    "version": 3
   },
   "file_extension": ".py",
   "mimetype": "text/x-python",
   "name": "python",
   "nbconvert_exporter": "python",
   "pygments_lexer": "ipython3",
   "version": "3.9.12"
  }
 },
 "nbformat": 4,
 "nbformat_minor": 5
}
